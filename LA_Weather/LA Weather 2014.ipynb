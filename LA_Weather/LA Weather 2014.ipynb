{
 "cells": [
  {
   "cell_type": "markdown",
   "metadata": {},
   "source": [
    "# LA Weather - Practice for Lists and Dictionaries \n",
    "\n",
    "# Description\n",
    "Read the LA weather data for 2014.Data is stored in la_weather.csv file. Count how many times each type of weather occurs in the weather list, and store the results in a new dictionary called weather_counts.When finished, weather_counts should contain a key for each different type of weather in the weather list, along with its associated frequency. \n",
    "\n",
    "Here's a preview of how the result should format the weather_counts dictionary (note that you'll be using real values, rather than the dummy ones below):\n",
    "\n",
    "{\n",
    "    'Fog': 0,\n",
    "    'Fog-Rain': 0,\n",
    "    ....\n",
    "}\n",
    "\n",
    "\n"
   ]
  },
  {
   "cell_type": "code",
   "execution_count": 2,
   "metadata": {
    "collapsed": false
   },
   "outputs": [
    {
     "name": "stdout",
     "output_type": "stream",
     "text": [
      "[['Day', 'Type of Weather'], ['1', 'Sunny'], ['2', 'Sunny'], ['3', 'Sunny'], ['4', 'Sunny']]\n"
     ]
    }
   ],
   "source": [
    "\"\"\"\n",
    "Read the data and split them into rows so the data can be used for analysis\n",
    "\"\"\"\n",
    "la_weather_csv = open(\"la_weather.csv\", \"r\")\n",
    "file_data = la_weather_csv.read()\n",
    "\n",
    "weather_rows = file_data.split(\"\\n\")\n",
    "weather_data = []\n",
    "for item in weather_rows:\n",
    "    split_data = item.split(\",\")\n",
    "    weather_data.append(split_data)\n",
    "    \n",
    "print(weather_data[0:5])"
   ]
  },
  {
   "cell_type": "code",
   "execution_count": 6,
   "metadata": {
    "collapsed": false
   },
   "outputs": [
    {
     "name": "stdout",
     "output_type": "stream",
     "text": [
      "Weather list contains: 365 items.\n"
     ]
    }
   ],
   "source": [
    "\"\"\"\n",
    "Find all the types of weather and see how many times each weather type occurs\n",
    "\"\"\"\n",
    "weather_list = []\n",
    "for item in weather_data:\n",
    "    weather_list.append(item[1])\n",
    "\n",
    "# Remove header  from the list\n",
    "weather_list_without_header = weather_list[1:len(weather_list)]\n",
    "\n",
    "print(\"Weather list contains: \" + str(len(weather_list_without_header)) + \" items.\")"
   ]
  },
  {
   "cell_type": "code",
   "execution_count": 7,
   "metadata": {
    "collapsed": false
   },
   "outputs": [
    {
     "data": {
      "text/plain": [
       "{'Fog', 'Fog-Rain', 'Rain', 'Sunny', 'Thunderstorm'}"
      ]
     },
     "execution_count": 7,
     "metadata": {},
     "output_type": "execute_result"
    }
   ],
   "source": [
    "# Retrieve unique weathers by converting the list into a set and convert it back to list\n",
    "unique_weather_set = set(weather_list_without_header)\n",
    "unique_weather_list = list(unique_weather_set)"
   ]
  },
  {
   "cell_type": "code",
   "execution_count": 10,
   "metadata": {
    "collapsed": false
   },
   "outputs": [
    {
     "name": "stdout",
     "output_type": "stream",
     "text": [
      "LA 2014 Weather counts dictionary {'Sunny': 210, 'Rain': 25, 'Fog': 125, 'Fog-Rain': 4, 'Thunderstorm': 1}\n"
     ]
    }
   ],
   "source": [
    "# weather dictionary with weather and no of times the weather occurred\n",
    "weather_counts_dictionary_2014 = {}\n",
    "\n",
    "for weather in weather_list_without_header:\n",
    "    if weather in weather_counts_dictionary_2014:\n",
    "        weather_counts_dictionary_2014[weather] = weather_counts_dictionary_2014[weather] + 1\n",
    "    else:\n",
    "        weather_counts_dictionary_2014[weather] = 1\n",
    "        \n",
    "print(\"LA 2014 Weather counts dictionary \" + str(weather_counts_dictionary_2014))"
   ]
  },
  {
   "cell_type": "code",
   "execution_count": null,
   "metadata": {
    "collapsed": true
   },
   "outputs": [],
   "source": []
  }
 ],
 "metadata": {
  "kernelspec": {
   "display_name": "Python 3",
   "language": "python",
   "name": "python3"
  },
  "language_info": {
   "codemirror_mode": {
    "name": "ipython",
    "version": 3
   },
   "file_extension": ".py",
   "mimetype": "text/x-python",
   "name": "python",
   "nbconvert_exporter": "python",
   "pygments_lexer": "ipython3",
   "version": "3.6.0"
  }
 },
 "nbformat": 4,
 "nbformat_minor": 2
}
