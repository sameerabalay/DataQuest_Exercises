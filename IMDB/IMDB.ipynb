{
 "cells": [
  {
   "cell_type": "markdown",
   "metadata": {},
   "source": [
    "# IMDB Project\n",
    "\n",
    "\n",
    "In this mission, we will work with a data set consisting of high-grossing movies, according to the Internet Movie Database(IMDb). IMDb is an online extensive database for films, television programs and video games. Our end goal is to create a dictionary that stores useful statistics from this data set, named movie_metadata. In order to do this, we will:\n",
    "\n",
    "Clean data to make the information useful to us more easily accessible\n",
    "Practice using dictionaries in more complex functions\n",
    "Learn how to write our own functions!\n",
    "We'll be working with movie_metadata.csv, which is a CSV file.\n",
    "Write a summary_statistics() function that will take movie_data as input, and output a dictionary \n",
    "that will give useful numbers from the data.\n",
    "Define summary_statistics() with one argument, an input list.\n",
    "Use the feature_counter() with the relevant arguments to count the following properties and make them \n",
    "equal to the corresponding variables.\n",
    "Assign the number of movies made in Japan to num_japan_films.\n",
    "Assign the number of movies in color to num_color_films.\n",
    "Assign the number of movies in English to num_films_in_english.\n",
    "Create a dictionary that associates the keys (japan_films,color_films,films_in_english) with \n",
    "the corresponding variables.\n",
    "Return the dictionary.\n",
    "Call the function with movie_data as its input, and store its value in summary.\n",
    "'''\n",
    "\n"
   ]
  },
  {
   "cell_type": "code",
   "execution_count": 6,
   "metadata": {
    "collapsed": false
   },
   "outputs": [
    {
     "name": "stdout",
     "output_type": "stream",
     "text": [
      "['movie_title,director_name,color,duration,actor_1_name,language,country,title_year', 'Avatar,James Cameron,Color,178,CCH Pounder,English,USA,2009', \"Pirates of the Caribbean: At World's End,Gore Verbinski,Color,169,Johnny Depp,English,USA,2007\", 'Spectre,Sam Mendes,Color,148,Christoph Waltz,English,UK,2015', 'The Dark Knight Rises,Christopher Nolan,Color,164,Tom Hardy,English,USA,2012']\n"
     ]
    }
   ],
   "source": [
    "'''\n",
    "Read the movie file\n",
    "'''\n",
    "movie_file_csv = open(\"movie_metadata.csv\", \"r\")\n",
    "movie_data = movie_file_csv.read()\n",
    "movie_rows = movie_data.split(\"\\n\")\n",
    "print(movie_rows[0:5])"
   ]
  },
  {
   "cell_type": "code",
   "execution_count": 8,
   "metadata": {
    "collapsed": false
   },
   "outputs": [
    {
     "name": "stdout",
     "output_type": "stream",
     "text": [
      "[['movie_title', 'director_name', 'color', 'duration', 'actor_1_name', 'language', 'country', 'title_year'], ['Avatar', 'James Cameron', 'Color', '178', 'CCH Pounder', 'English', 'USA', '2009'], [\"Pirates of the Caribbean: At World's End\", 'Gore Verbinski', 'Color', '169', 'Johnny Depp', 'English', 'USA', '2007'], ['Spectre', 'Sam Mendes', 'Color', '148', 'Christoph Waltz', 'English', 'UK', '2015'], ['The Dark Knight Rises', 'Christopher Nolan', 'Color', '164', 'Tom Hardy', 'English', 'USA', '2012']]\n"
     ]
    }
   ],
   "source": [
    "movie_data = []\n",
    "for item in movie_rows:\n",
    "    split_rows = item.split(\",\")\n",
    "    movie_data.append(split_rows)\n",
    "print(movie_data[0:5])"
   ]
  },
  {
   "cell_type": "code",
   "execution_count": 10,
   "metadata": {
    "collapsed": false
   },
   "outputs": [
    {
     "name": "stdout",
     "output_type": "stream",
     "text": [
      "['movie_title', 'Avatar', \"Pirates of the Caribbean: At World's End\", 'Spectre', 'The Dark Knight Rises']\n"
     ]
    }
   ],
   "source": [
    "'''\n",
    "Write a function that returns all items in a column_index of a list. Use the function to get all the movie names\n",
    "'''\n",
    "\n",
    "def all_items_in_a_column(input_list, column_index):\n",
    "    column_list = []\n",
    "    for item in input_list:\n",
    "        column_list.append(item[column_index])\n",
    "    return column_list\n",
    "\n",
    "movie_names = all_items_in_a_column(input_list=movie_data,column_index=0)\n",
    "print(movie_names[0:5])"
   ]
  },
  {
   "cell_type": "code",
   "execution_count": 19,
   "metadata": {
    "collapsed": false,
    "scrolled": true
   },
   "outputs": [
    {
     "name": "stdout",
     "output_type": "stream",
     "text": [
      "Director James Cameron made a movie : True\n"
     ]
    }
   ],
   "source": [
    "'''\n",
    "Write a function index_equals_str() that takes in three arguments: a list, \n",
    "an index and a string, and checks whether that index of the list is equal to that string.\n",
    "'''\n",
    "\n",
    "def index_equals_str(input_list, column_index, equals_to_string):\n",
    "    if input_list[column_index] == equals_to_string:\n",
    "        return True\n",
    "    else:\n",
    "        return False\n",
    "        \n",
    "# Different usages of the index_equals_str method\n",
    "\n",
    "james_cameron_movie_exists = index_equals_str(movie_data[1], 1, \"James Cameron\")\n",
    "print(\"Director James Cameron made a movie : \" + str(james_cameron_movie_exists))"
   ]
  },
  {
   "cell_type": "code",
   "execution_count": 20,
   "metadata": {
    "collapsed": false
   },
   "outputs": [
    {
     "name": "stdout",
     "output_type": "stream",
     "text": [
      "Total number of movies in the csv file : 4932\n"
     ]
    }
   ],
   "source": [
    "'''\n",
    "Write a function counter() that takes a two arguments: a list and if header_row as True or False and returns the number of the item\n",
    "in the list\n",
    "'''\n",
    "\n",
    "def counter(input_list, header_row=False):\n",
    "    count = 0\n",
    "    counting_list = []\n",
    "    if header_row == True:\n",
    "        counting_list = input_list[1:len(input_list)]\n",
    "    else:\n",
    "        counting_list = input_list\n",
    "    \n",
    "    for each in counting_list:\n",
    "        count = count + 1\n",
    "    return count\n",
    "\n",
    "# Usage of the counter function\n",
    "\n",
    "total_number_of_movies_in_csv = counter(movie_data,True)\n",
    "print(\"Total number of movies in the csv file : \" + str(total_number_of_movies_in_csv))\n"
   ]
  },
  {
   "cell_type": "code",
   "execution_count": 24,
   "metadata": {
    "collapsed": false
   },
   "outputs": [
    {
     "name": "stdout",
     "output_type": "stream",
     "text": [
      "Number of movies made in USA in this dataset : 3732\n"
     ]
    }
   ],
   "source": [
    "'''\n",
    "Write a function feature_counter() that combines the combines the logic of counter() and index_equal_str() logic. \n",
    "It takes the following arguments: list, header_row, column_index, value_to_compare_in_column_index\n",
    "'''\n",
    "'''\n",
    "Findings the default arguments should always be in the end.\n",
    "'''\n",
    "\n",
    "def feature_counter(input_list, column_index, value_to_compare_in_column_index,header_row=False):\n",
    "    count = 0\n",
    "    counting_list = []\n",
    "    if header_row == True:\n",
    "        counting_list = input_list[1:len(input_list)]\n",
    "    else:\n",
    "        counting_list = input_list\n",
    "        \n",
    "    for item in counting_list:\n",
    "        if item[column_index] == value_to_compare_in_column_index:\n",
    "            count = count + 1\n",
    "    \n",
    "    return count\n",
    "\n",
    "# Usage of the feature_counter()\n",
    "\n",
    "usa_movie_counts = feature_counter(movie_data, 6, \"USA\",True)\n",
    "print(\"Number of movies made in USA in this dataset : \" + str(usa_movie_counts))"
   ]
  },
  {
   "cell_type": "code",
   "execution_count": 25,
   "metadata": {
    "collapsed": false
   },
   "outputs": [
    {
     "name": "stdout",
     "output_type": "stream",
     "text": [
      "{'japan_films': 22, 'color_films': 4714, 'films_in_english': 4611}\n"
     ]
    }
   ],
   "source": [
    "'''\n",
    "Write a summary_statistics() function that will take movie_data as input, \n",
    "and output a dictionary that will give useful numbers from the data.\n",
    "\n",
    "Use the feature_counter() with the relevant arguments to count the following properties and \n",
    "make them equal to the corresponding variables.\n",
    " - Assign the number of movies made in Japan to num_japan_films.\n",
    " - Assign the number of movies in color to num_color_films.\n",
    " - Assign the number of movies in English to num_films_in_english.\n",
    "Create a dictionary that associates the keys (japan_films,color_films,films_in_english) with the corresponding variables.\n",
    "Return the dictionary.\n",
    "Call the function with movie_data as its input, and store its value in summary.\n",
    "'''\n",
    "\n",
    "def summary_statistics(input_list):\n",
    "    num_japan_films = feature_counter(input_list,6, \"Japan\",True)\n",
    "    num_color_films = feature_counter(input_list,2, \"Color\",True)\n",
    "    num_films_in_english = feature_counter(input_list,5, \"English\",True)\n",
    "    \n",
    "    summary ={\"japan_films\": num_japan_films, \"color_films\": num_color_films, \"films_in_english\":num_films_in_english}\n",
    "    return summary\n",
    "\n",
    "summary = summary_statistics(movie_data)\n",
    "print(summary)"
   ]
  },
  {
   "cell_type": "code",
   "execution_count": null,
   "metadata": {
    "collapsed": true
   },
   "outputs": [],
   "source": []
  }
 ],
 "metadata": {
  "kernelspec": {
   "display_name": "Python 3",
   "language": "python",
   "name": "python3"
  },
  "language_info": {
   "codemirror_mode": {
    "name": "ipython",
    "version": 3
   },
   "file_extension": ".py",
   "mimetype": "text/x-python",
   "name": "python",
   "nbconvert_exporter": "python",
   "pygments_lexer": "ipython3",
   "version": "3.6.0"
  }
 },
 "nbformat": 4,
 "nbformat_minor": 2
}
